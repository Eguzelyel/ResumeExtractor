{
 "cells": [
  {
   "cell_type": "code",
   "execution_count": 1,
   "metadata": {},
   "outputs": [],
   "source": [
    "import keyword_extraction\n",
    "import random"
   ]
  },
  {
   "cell_type": "code",
   "execution_count": 28,
   "metadata": {},
   "outputs": [
    {
     "name": "stdout",
     "output_type": "stream",
     "text": [
      "Resume found.\n",
      "# of pages: 1\n",
      "Resume successfully extracted\n",
      "Keywords imported.\n"
     ]
    }
   ],
   "source": [
    "resume_keys, resume_text = keyword_extraction.import_resume(path='./SamplePDF/Sample_Resume3.pdf')\n",
    "keywords_dic= keyword_extraction.import_keys()"
   ]
  },
  {
   "cell_type": "code",
   "execution_count": 29,
   "metadata": {},
   "outputs": [
    {
     "data": {
      "text/plain": [
       "dict_keys(['action_key', 'hard_skills', 'soft_skills', 'comp_sci_key', 'legal_key'])"
      ]
     },
     "execution_count": 29,
     "metadata": {},
     "output_type": "execute_result"
    }
   ],
   "source": [
    "keywords_dic.keys()"
   ]
  },
  {
   "cell_type": "code",
   "execution_count": 30,
   "metadata": {
    "scrolled": true
   },
   "outputs": [
    {
     "data": {
      "text/plain": [
       "(['w.', 'huron', 'street', 'chicago', 'illinois'],\n",
       " ' w. huron street chicago ill')"
      ]
     },
     "execution_count": 30,
     "metadata": {},
     "output_type": "execute_result"
    }
   ],
   "source": [
    "resume_keys[3:8],resume_text[15:43]"
   ]
  },
  {
   "cell_type": "code",
   "execution_count": 31,
   "metadata": {},
   "outputs": [],
   "source": [
    "# This cell could be implemented during import_resume().\n",
    "stop_words = ['with','to', 'of','the', 'a', 'and','on']\n",
    "resume_set = set(resume_keys).difference(stop_words)"
   ]
  },
  {
   "cell_type": "code",
   "execution_count": 32,
   "metadata": {
    "scrolled": false
   },
   "outputs": [
    {
     "data": {
      "text/plain": [
       "['club', 'turkish', 'semester', 'onal', 'academic']"
      ]
     },
     "execution_count": 32,
     "metadata": {},
     "output_type": "execute_result"
    }
   ],
   "source": [
    "random.sample(resume_set, 5)"
   ]
  },
  {
   "cell_type": "code",
   "execution_count": 23,
   "metadata": {},
   "outputs": [
    {
     "name": "stdout",
     "output_type": "stream",
     "text": [
      "# of action words: 3\n"
     ]
    },
    {
     "data": {
      "text/plain": [
       "{'assisted', 'met', 'wrote'}"
      ]
     },
     "execution_count": 23,
     "metadata": {},
     "output_type": "execute_result"
    }
   ],
   "source": [
    "# Action Words\n",
    "act_w = resume_set.intersection(keywords_dic['action_key'])\n",
    "print(\"# of action words:\", len(act_w))\n",
    "act_w"
   ]
  },
  {
   "cell_type": "code",
   "execution_count": 24,
   "metadata": {},
   "outputs": [
    {
     "name": "stdout",
     "output_type": "stream",
     "text": [
      "# of soft skills: 12\n"
     ]
    },
    {
     "data": {
      "text/plain": [
       "{'business',\n",
       " 'education',\n",
       " 'high',\n",
       " 'listen',\n",
       " 'meeting',\n",
       " 'planning',\n",
       " 'politics',\n",
       " 'public',\n",
       " 'reading',\n",
       " 'reports',\n",
       " 'team',\n",
       " 'writing'}"
      ]
     },
     "execution_count": 24,
     "metadata": {},
     "output_type": "execute_result"
    }
   ],
   "source": [
    "# Soft Skills\n",
    "soft_s = resume_set.intersection(keywords_dic['soft_skills'])\n",
    "print(\"# of soft skills:\", len(soft_s))\n",
    "soft_s"
   ]
  },
  {
   "cell_type": "code",
   "execution_count": 25,
   "metadata": {},
   "outputs": [
    {
     "name": "stdout",
     "output_type": "stream",
     "text": [
      "# of hard skills: 5\n"
     ]
    },
    {
     "data": {
      "text/plain": [
       "{'administrative', 'languages', 'legal', 'technology', 'writing'}"
      ]
     },
     "execution_count": 25,
     "metadata": {},
     "output_type": "execute_result"
    }
   ],
   "source": [
    "# Hard Skills\n",
    "hard_s = resume_set.intersection(keywords_dic['hard_skills'])\n",
    "print(\"# of hard skills:\", len(hard_s))\n",
    "hard_s"
   ]
  },
  {
   "cell_type": "code",
   "execution_count": 26,
   "metadata": {},
   "outputs": [
    {
     "name": "stdout",
     "output_type": "stream",
     "text": [
      "# of CS skills: 5\n"
     ]
    },
    {
     "data": {
      "text/plain": [
       "{'c', 'languages', 'planning', 'r', 'technology'}"
      ]
     },
     "execution_count": 26,
     "metadata": {},
     "output_type": "execute_result"
    }
   ],
   "source": [
    "# Computer Science Skills\n",
    "cs_s = resume_set.intersection(keywords_dic['comp_sci_key'])\n",
    "print(\"# of CS skills:\", len(cs_s))\n",
    "cs_s"
   ]
  },
  {
   "cell_type": "code",
   "execution_count": 27,
   "metadata": {},
   "outputs": [
    {
     "name": "stdout",
     "output_type": "stream",
     "text": [
      "# of Legal skills: 7\n"
     ]
    },
    {
     "data": {
      "text/plain": [
       "{'counsel', 'court', 'criminal', 'justice', 'law', 'legal', 'planning'}"
      ]
     },
     "execution_count": 27,
     "metadata": {},
     "output_type": "execute_result"
    }
   ],
   "source": [
    "# Legal Skills\n",
    "legal_s = resume_set.intersection(keywords_dic['legal_key'])\n",
    "print(\"# of Legal skills:\", len(legal_s))\n",
    "legal_s"
   ]
  },
  {
   "cell_type": "code",
   "execution_count": null,
   "metadata": {},
   "outputs": [],
   "source": []
  }
 ],
 "metadata": {
  "kernelspec": {
   "display_name": "Python 3",
   "language": "python",
   "name": "python3"
  },
  "language_info": {
   "codemirror_mode": {
    "name": "ipython",
    "version": 3
   },
   "file_extension": ".py",
   "mimetype": "text/x-python",
   "name": "python",
   "nbconvert_exporter": "python",
   "pygments_lexer": "ipython3",
   "version": "3.6.5"
  }
 },
 "nbformat": 4,
 "nbformat_minor": 2
}
